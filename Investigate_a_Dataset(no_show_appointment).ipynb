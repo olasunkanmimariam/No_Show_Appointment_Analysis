{
 "cells": [
  {
   "cell_type": "markdown",
   "id": "0db5019c",
   "metadata": {},
   "source": [
    "## Project: Investigate No_show_medical_appointment dataset"
   ]
  },
  {
   "cell_type": "markdown",
   "id": "fe936e8c",
   "metadata": {},
   "source": [
    "### Contents\n",
    "Introduction\n",
    "\n",
    "Data Wrangling\n",
    "\n",
    "Exploratory Data Analysis\n",
    "\n",
    "Conclusion"
   ]
  },
  {
   "cell_type": "markdown",
   "id": "102d83be",
   "metadata": {},
   "source": [
    "### Introduction\n",
    "\n",
    "\n",
    "A patient makes a doctor's appointment, and didn't show up. Why?\n",
    "\n",
    "The dataset collects information from 100k medical appointments in Brazil and is focused on the question of whether or not patients show up for their appointment. A number of characteristics about patient are included in the data\n",
    "\n",
    "Original data can be access using this link https://www.google.com/url?q=https://www.kaggle.com/joniarroba/noshowappointments&sa=D&ust=1532469042118000\n",
    "\n",
    "#### Data Dictionary\n",
    "\n",
    "01 - PatientId: Identification of a patient\n",
    "\n",
    "02 - AppointmentID: Identification of each appointment\n",
    "\n",
    "03 - Gender: Male or Female\n",
    "\n",
    "04 - AppointmentDay: The day of the actuall appointment, when they have to visit the doctor.\n",
    "\n",
    "05 - ScheduledDay: The day someone called or registered the appointment, this is before appointment of course.\n",
    "\n",
    "06 - Age: How old is the patient.\n",
    "\n",
    "07 - Neighbourhood: Where the appointment takes place.\n",
    "\n",
    "08 - Scholarship: 1 or 0 .This indicates whether or not the patient is enrolled in Brasillian Welfare program Bolsa Família.\n",
    "\n",
    "09 - Hipertension: 1 or 0\n",
    "\n",
    "10 - Diabetes: 1 or 0\n",
    "\n",
    "11 - Alcoholism: 1 or 0\n",
    "\n",
    "12 - Handcap: 1 or 0\n",
    "\n",
    "13 - SMS_received: 1 or more messages sent to the patient.\n",
    "\n",
    "14 - No-show: Yes or No.\n",
    "\n",
    "##### Note: 'No' if the patient showed up to their appointment. and 'Yes' if they did not show up\n",
    "\n",
    "Analyzing this dataset aim to answer the following:\n",
    "\n",
    "1. How many percentage of patients miss their appointment\n",
    "2. What age category miss the appointment most and why?\n",
    "3. Is waiting days a factor for shoing up for appointment?\n",
    "4. Does SMS received promp patient to show for their appointment?\n",
    "5. Does patients enrollment in Brasillian Welfare program(i.e scholarship) affect their appointment"
   ]
  },
  {
   "cell_type": "code",
   "execution_count": 1,
   "id": "be88dcb7",
   "metadata": {},
   "outputs": [],
   "source": [
    "# import necessary libraries\n",
    "\n",
    "import pandas as pd\n",
    "import numpy as np\n",
    "import matplotlib.pyplot as plt\n",
    "import seaborn as sns\n",
    "%matplotlib inline"
   ]
  },
  {
   "cell_type": "code",
   "execution_count": 2,
   "id": "b746e6bd",
   "metadata": {},
   "outputs": [
    {
     "data": {
      "text/html": [
       "<div>\n",
       "<style scoped>\n",
       "    .dataframe tbody tr th:only-of-type {\n",
       "        vertical-align: middle;\n",
       "    }\n",
       "\n",
       "    .dataframe tbody tr th {\n",
       "        vertical-align: top;\n",
       "    }\n",
       "\n",
       "    .dataframe thead th {\n",
       "        text-align: right;\n",
       "    }\n",
       "</style>\n",
       "<table border=\"1\" class=\"dataframe\">\n",
       "  <thead>\n",
       "    <tr style=\"text-align: right;\">\n",
       "      <th></th>\n",
       "      <th>PatientId</th>\n",
       "      <th>AppointmentID</th>\n",
       "      <th>Gender</th>\n",
       "      <th>ScheduledDay</th>\n",
       "      <th>AppointmentDay</th>\n",
       "      <th>Age</th>\n",
       "      <th>Neighbourhood</th>\n",
       "      <th>Scholarship</th>\n",
       "      <th>Hipertension</th>\n",
       "      <th>Diabetes</th>\n",
       "      <th>Alcoholism</th>\n",
       "      <th>Handcap</th>\n",
       "      <th>SMS_received</th>\n",
       "      <th>No-show</th>\n",
       "    </tr>\n",
       "  </thead>\n",
       "  <tbody>\n",
       "    <tr>\n",
       "      <th>0</th>\n",
       "      <td>2.987250e+13</td>\n",
       "      <td>5642903</td>\n",
       "      <td>F</td>\n",
       "      <td>2016-04-29T18:38:08Z</td>\n",
       "      <td>2016-04-29T00:00:00Z</td>\n",
       "      <td>62</td>\n",
       "      <td>JARDIM DA PENHA</td>\n",
       "      <td>0</td>\n",
       "      <td>1</td>\n",
       "      <td>0</td>\n",
       "      <td>0</td>\n",
       "      <td>0</td>\n",
       "      <td>0</td>\n",
       "      <td>No</td>\n",
       "    </tr>\n",
       "    <tr>\n",
       "      <th>1</th>\n",
       "      <td>5.589978e+14</td>\n",
       "      <td>5642503</td>\n",
       "      <td>M</td>\n",
       "      <td>2016-04-29T16:08:27Z</td>\n",
       "      <td>2016-04-29T00:00:00Z</td>\n",
       "      <td>56</td>\n",
       "      <td>JARDIM DA PENHA</td>\n",
       "      <td>0</td>\n",
       "      <td>0</td>\n",
       "      <td>0</td>\n",
       "      <td>0</td>\n",
       "      <td>0</td>\n",
       "      <td>0</td>\n",
       "      <td>No</td>\n",
       "    </tr>\n",
       "    <tr>\n",
       "      <th>2</th>\n",
       "      <td>4.262962e+12</td>\n",
       "      <td>5642549</td>\n",
       "      <td>F</td>\n",
       "      <td>2016-04-29T16:19:04Z</td>\n",
       "      <td>2016-04-29T00:00:00Z</td>\n",
       "      <td>62</td>\n",
       "      <td>MATA DA PRAIA</td>\n",
       "      <td>0</td>\n",
       "      <td>0</td>\n",
       "      <td>0</td>\n",
       "      <td>0</td>\n",
       "      <td>0</td>\n",
       "      <td>0</td>\n",
       "      <td>No</td>\n",
       "    </tr>\n",
       "    <tr>\n",
       "      <th>3</th>\n",
       "      <td>8.679512e+11</td>\n",
       "      <td>5642828</td>\n",
       "      <td>F</td>\n",
       "      <td>2016-04-29T17:29:31Z</td>\n",
       "      <td>2016-04-29T00:00:00Z</td>\n",
       "      <td>8</td>\n",
       "      <td>PONTAL DE CAMBURI</td>\n",
       "      <td>0</td>\n",
       "      <td>0</td>\n",
       "      <td>0</td>\n",
       "      <td>0</td>\n",
       "      <td>0</td>\n",
       "      <td>0</td>\n",
       "      <td>No</td>\n",
       "    </tr>\n",
       "  </tbody>\n",
       "</table>\n",
       "</div>"
      ],
      "text/plain": [
       "      PatientId  AppointmentID Gender          ScheduledDay  \\\n",
       "0  2.987250e+13        5642903      F  2016-04-29T18:38:08Z   \n",
       "1  5.589978e+14        5642503      M  2016-04-29T16:08:27Z   \n",
       "2  4.262962e+12        5642549      F  2016-04-29T16:19:04Z   \n",
       "3  8.679512e+11        5642828      F  2016-04-29T17:29:31Z   \n",
       "\n",
       "         AppointmentDay  Age      Neighbourhood  Scholarship  Hipertension  \\\n",
       "0  2016-04-29T00:00:00Z   62    JARDIM DA PENHA            0             1   \n",
       "1  2016-04-29T00:00:00Z   56    JARDIM DA PENHA            0             0   \n",
       "2  2016-04-29T00:00:00Z   62      MATA DA PRAIA            0             0   \n",
       "3  2016-04-29T00:00:00Z    8  PONTAL DE CAMBURI            0             0   \n",
       "\n",
       "   Diabetes  Alcoholism  Handcap  SMS_received No-show  \n",
       "0         0           0        0             0      No  \n",
       "1         0           0        0             0      No  \n",
       "2         0           0        0             0      No  \n",
       "3         0           0        0             0      No  "
      ]
     },
     "execution_count": 2,
     "metadata": {},
     "output_type": "execute_result"
    }
   ],
   "source": [
    "df = pd.read_csv('medical-appointment.csv')\n",
    "\n",
    "df.head(4)"
   ]
  },
  {
   "cell_type": "markdown",
   "id": "13ec64e1",
   "metadata": {},
   "source": [
    "#### Data Wrangling"
   ]
  },
  {
   "cell_type": "code",
   "execution_count": 3,
   "id": "c75b5c19",
   "metadata": {},
   "outputs": [
    {
     "name": "stdout",
     "output_type": "stream",
     "text": [
      "<class 'pandas.core.frame.DataFrame'>\n",
      "RangeIndex: 110527 entries, 0 to 110526\n",
      "Data columns (total 14 columns):\n",
      " #   Column          Non-Null Count   Dtype  \n",
      "---  ------          --------------   -----  \n",
      " 0   PatientId       110527 non-null  float64\n",
      " 1   AppointmentID   110527 non-null  int64  \n",
      " 2   Gender          110527 non-null  object \n",
      " 3   ScheduledDay    110527 non-null  object \n",
      " 4   AppointmentDay  110527 non-null  object \n",
      " 5   Age             110527 non-null  int64  \n",
      " 6   Neighbourhood   110527 non-null  object \n",
      " 7   Scholarship     110527 non-null  int64  \n",
      " 8   Hipertension    110527 non-null  int64  \n",
      " 9   Diabetes        110527 non-null  int64  \n",
      " 10  Alcoholism      110527 non-null  int64  \n",
      " 11  Handcap         110527 non-null  int64  \n",
      " 12  SMS_received    110527 non-null  int64  \n",
      " 13  No-show         110527 non-null  object \n",
      "dtypes: float64(1), int64(8), object(5)\n",
      "memory usage: 11.8+ MB\n"
     ]
    }
   ],
   "source": [
    "# checking the general info about the data\n",
    "df.info()"
   ]
  },
  {
   "cell_type": "code",
   "execution_count": 4,
   "id": "1bc99bdb",
   "metadata": {},
   "outputs": [
    {
     "data": {
      "text/plain": [
       "(110527, 14)"
      ]
     },
     "execution_count": 4,
     "metadata": {},
     "output_type": "execute_result"
    }
   ],
   "source": [
    "df.shape"
   ]
  },
  {
   "cell_type": "code",
   "execution_count": 5,
   "id": "9c9d745c",
   "metadata": {},
   "outputs": [
    {
     "data": {
      "text/plain": [
       "PatientId         0\n",
       "AppointmentID     0\n",
       "Gender            0\n",
       "ScheduledDay      0\n",
       "AppointmentDay    0\n",
       "Age               0\n",
       "Neighbourhood     0\n",
       "Scholarship       0\n",
       "Hipertension      0\n",
       "Diabetes          0\n",
       "Alcoholism        0\n",
       "Handcap           0\n",
       "SMS_received      0\n",
       "No-show           0\n",
       "dtype: int64"
      ]
     },
     "execution_count": 5,
     "metadata": {},
     "output_type": "execute_result"
    }
   ],
   "source": [
    "# checking for null values\n",
    "\n",
    "df.isnull().sum()"
   ]
  },
  {
   "cell_type": "code",
   "execution_count": 6,
   "id": "5869dba6",
   "metadata": {},
   "outputs": [
    {
     "data": {
      "text/plain": [
       "PatientId          62299\n",
       "AppointmentID     110527\n",
       "Gender                 2\n",
       "ScheduledDay      103549\n",
       "AppointmentDay        27\n",
       "Age                  104\n",
       "Neighbourhood         81\n",
       "Scholarship            2\n",
       "Hipertension           2\n",
       "Diabetes               2\n",
       "Alcoholism             2\n",
       "Handcap                5\n",
       "SMS_received           2\n",
       "No-show                2\n",
       "dtype: int64"
      ]
     },
     "execution_count": 6,
     "metadata": {},
     "output_type": "execute_result"
    }
   ],
   "source": [
    "# checking for unique count in each column\n",
    "\n",
    "df.nunique()"
   ]
  },
  {
   "cell_type": "markdown",
   "id": "28de2ef2",
   "metadata": {},
   "source": [
    "The data has 110527 rows and 14 columns(13 independent columns and 1 dependent column[No_show])\n",
    "\n",
    "The data has no null value\n",
    "\n",
    "Some data columns are not in right datatypes(scheduledDay, AppointmentDay, patientID)"
   ]
  },
  {
   "cell_type": "markdown",
   "id": "3222a21e",
   "metadata": {},
   "source": [
    "### Data Cleaning"
   ]
  },
  {
   "cell_type": "markdown",
   "id": "60f29e92",
   "metadata": {},
   "source": [
    "Dropping of AppointmentId and PatientId\n",
    "\n",
    "Removing duplicated values\n",
    "\n",
    "Renaming NO-show column to conform to standard naming convention\n",
    "\n",
    "Changing the scheduledday and appointmentday to datetime types"
   ]
  },
  {
   "cell_type": "code",
   "execution_count": 7,
   "id": "75ad3aca",
   "metadata": {},
   "outputs": [],
   "source": [
    "# dropping patientid and appointmentid columns\n",
    "\n",
    "df.drop(['AppointmentID', 'PatientId'], axis=1, inplace=True)"
   ]
  },
  {
   "cell_type": "code",
   "execution_count": 8,
   "id": "f3bf8e8c",
   "metadata": {},
   "outputs": [
    {
     "data": {
      "text/plain": [
       "635"
      ]
     },
     "execution_count": 8,
     "metadata": {},
     "output_type": "execute_result"
    }
   ],
   "source": [
    "# Checking for duplicate values and dropping them\n",
    "\n",
    "sum(df.duplicated())"
   ]
  },
  {
   "cell_type": "code",
   "execution_count": 9,
   "id": "ff740d80",
   "metadata": {},
   "outputs": [],
   "source": [
    "df.drop_duplicates(inplace=True)"
   ]
  },
  {
   "cell_type": "code",
   "execution_count": 10,
   "id": "a74ad32a",
   "metadata": {},
   "outputs": [],
   "source": [
    "# Changing scheduleDay and AppointmentDay datatype to datetime\n",
    "\n",
    "df['ScheduledDay'] = pd.to_datetime(df['ScheduledDay'])"
   ]
  },
  {
   "cell_type": "code",
   "execution_count": 11,
   "id": "f64c195f",
   "metadata": {},
   "outputs": [],
   "source": [
    "df['AppointmentDay'] = pd.to_datetime(df['AppointmentDay'])"
   ]
  },
  {
   "cell_type": "code",
   "execution_count": 12,
   "id": "6d6ee391",
   "metadata": {},
   "outputs": [],
   "source": [
    "df.rename(columns={'No-show':'No_show'}, inplace=True)"
   ]
  },
  {
   "cell_type": "code",
   "execution_count": 13,
   "id": "ab0a7b86",
   "metadata": {},
   "outputs": [
    {
     "name": "stdout",
     "output_type": "stream",
     "text": [
      "<class 'pandas.core.frame.DataFrame'>\n",
      "Int64Index: 109892 entries, 0 to 110526\n",
      "Data columns (total 12 columns):\n",
      " #   Column          Non-Null Count   Dtype              \n",
      "---  ------          --------------   -----              \n",
      " 0   Gender          109892 non-null  object             \n",
      " 1   ScheduledDay    109892 non-null  datetime64[ns, UTC]\n",
      " 2   AppointmentDay  109892 non-null  datetime64[ns, UTC]\n",
      " 3   Age             109892 non-null  int64              \n",
      " 4   Neighbourhood   109892 non-null  object             \n",
      " 5   Scholarship     109892 non-null  int64              \n",
      " 6   Hipertension    109892 non-null  int64              \n",
      " 7   Diabetes        109892 non-null  int64              \n",
      " 8   Alcoholism      109892 non-null  int64              \n",
      " 9   Handcap         109892 non-null  int64              \n",
      " 10  SMS_received    109892 non-null  int64              \n",
      " 11  No_show         109892 non-null  object             \n",
      "dtypes: datetime64[ns, UTC](2), int64(7), object(3)\n",
      "memory usage: 10.9+ MB\n"
     ]
    }
   ],
   "source": [
    "df.info()"
   ]
  },
  {
   "cell_type": "markdown",
   "id": "ee17bff2",
   "metadata": {},
   "source": [
    "### Exploratory Data Analysis(EDA)"
   ]
  },
  {
   "cell_type": "markdown",
   "id": "3c8ecb8d",
   "metadata": {},
   "source": [
    "Explore the scheduleDay and AppointmentDay by checking for the start and end\n",
    "\n",
    "Analyzing if interval days between scheduledDay and AppointmentDay affect the patients show up. This can be done by subtracting scheduledDay from AppointmentDay in days\n",
    "\n",
    "Exploring the age column by bining and investigating against other columns\n",
    "\n",
    "Exploring if SMS received has anything to do with showing up or not\n",
    "\n",
    "check distribution of columns using histogram"
   ]
  },
  {
   "cell_type": "code",
   "execution_count": 14,
   "id": "23697a4d",
   "metadata": {},
   "outputs": [
    {
     "name": "stdout",
     "output_type": "stream",
     "text": [
      "The scheduling of appointments began on 2015-11-10\n"
     ]
    }
   ],
   "source": [
    "print(\"The scheduling of appointments began on {}\".format(df['ScheduledDay'].dt.date.min()))"
   ]
  },
  {
   "cell_type": "code",
   "execution_count": 15,
   "id": "8da22c73",
   "metadata": {},
   "outputs": [
    {
     "name": "stdout",
     "output_type": "stream",
     "text": [
      "The scheduling of appointments ended on 2016-06-08\n"
     ]
    }
   ],
   "source": [
    "print(\"The scheduling of appointments ended on {}\".format(df['ScheduledDay'].dt.date.max()))"
   ]
  },
  {
   "cell_type": "code",
   "execution_count": 16,
   "id": "89121ca3",
   "metadata": {},
   "outputs": [
    {
     "name": "stdout",
     "output_type": "stream",
     "text": [
      "Appointments for visits began on 2016-04-29\n"
     ]
    }
   ],
   "source": [
    "print(\"Appointments for visits began on {}\".format(df['AppointmentDay'].dt.date.min()))"
   ]
  },
  {
   "cell_type": "code",
   "execution_count": 17,
   "id": "cd4a246e",
   "metadata": {},
   "outputs": [
    {
     "name": "stdout",
     "output_type": "stream",
     "text": [
      "Appointments for visits ended on 2016-06-08\n"
     ]
    }
   ],
   "source": [
    "print(\"Appointments for visits ended on {}\".format(df['AppointmentDay'].dt.date.max()))"
   ]
  },
  {
   "cell_type": "markdown",
   "id": "94533fac",
   "metadata": {},
   "source": [
    "##### Days between appointment and schedule day"
   ]
  },
  {
   "cell_type": "code",
   "execution_count": 18,
   "id": "813cef82",
   "metadata": {},
   "outputs": [],
   "source": [
    "df['waiting_days'] = (df['AppointmentDay'].dt.date - df['ScheduledDay'].dt.date).dt.days"
   ]
  },
  {
   "cell_type": "code",
   "execution_count": 19,
   "id": "45b15846",
   "metadata": {
    "scrolled": true
   },
   "outputs": [
    {
     "data": {
      "text/html": [
       "<div>\n",
       "<style scoped>\n",
       "    .dataframe tbody tr th:only-of-type {\n",
       "        vertical-align: middle;\n",
       "    }\n",
       "\n",
       "    .dataframe tbody tr th {\n",
       "        vertical-align: top;\n",
       "    }\n",
       "\n",
       "    .dataframe thead th {\n",
       "        text-align: right;\n",
       "    }\n",
       "</style>\n",
       "<table border=\"1\" class=\"dataframe\">\n",
       "  <thead>\n",
       "    <tr style=\"text-align: right;\">\n",
       "      <th></th>\n",
       "      <th>Gender</th>\n",
       "      <th>ScheduledDay</th>\n",
       "      <th>AppointmentDay</th>\n",
       "      <th>Age</th>\n",
       "      <th>Neighbourhood</th>\n",
       "      <th>Scholarship</th>\n",
       "      <th>Hipertension</th>\n",
       "      <th>Diabetes</th>\n",
       "      <th>Alcoholism</th>\n",
       "      <th>Handcap</th>\n",
       "      <th>SMS_received</th>\n",
       "      <th>No_show</th>\n",
       "      <th>waiting_days</th>\n",
       "    </tr>\n",
       "  </thead>\n",
       "  <tbody>\n",
       "    <tr>\n",
       "      <th>0</th>\n",
       "      <td>F</td>\n",
       "      <td>2016-04-29 18:38:08+00:00</td>\n",
       "      <td>2016-04-29 00:00:00+00:00</td>\n",
       "      <td>62</td>\n",
       "      <td>JARDIM DA PENHA</td>\n",
       "      <td>0</td>\n",
       "      <td>1</td>\n",
       "      <td>0</td>\n",
       "      <td>0</td>\n",
       "      <td>0</td>\n",
       "      <td>0</td>\n",
       "      <td>No</td>\n",
       "      <td>0</td>\n",
       "    </tr>\n",
       "    <tr>\n",
       "      <th>1</th>\n",
       "      <td>M</td>\n",
       "      <td>2016-04-29 16:08:27+00:00</td>\n",
       "      <td>2016-04-29 00:00:00+00:00</td>\n",
       "      <td>56</td>\n",
       "      <td>JARDIM DA PENHA</td>\n",
       "      <td>0</td>\n",
       "      <td>0</td>\n",
       "      <td>0</td>\n",
       "      <td>0</td>\n",
       "      <td>0</td>\n",
       "      <td>0</td>\n",
       "      <td>No</td>\n",
       "      <td>0</td>\n",
       "    </tr>\n",
       "    <tr>\n",
       "      <th>2</th>\n",
       "      <td>F</td>\n",
       "      <td>2016-04-29 16:19:04+00:00</td>\n",
       "      <td>2016-04-29 00:00:00+00:00</td>\n",
       "      <td>62</td>\n",
       "      <td>MATA DA PRAIA</td>\n",
       "      <td>0</td>\n",
       "      <td>0</td>\n",
       "      <td>0</td>\n",
       "      <td>0</td>\n",
       "      <td>0</td>\n",
       "      <td>0</td>\n",
       "      <td>No</td>\n",
       "      <td>0</td>\n",
       "    </tr>\n",
       "    <tr>\n",
       "      <th>3</th>\n",
       "      <td>F</td>\n",
       "      <td>2016-04-29 17:29:31+00:00</td>\n",
       "      <td>2016-04-29 00:00:00+00:00</td>\n",
       "      <td>8</td>\n",
       "      <td>PONTAL DE CAMBURI</td>\n",
       "      <td>0</td>\n",
       "      <td>0</td>\n",
       "      <td>0</td>\n",
       "      <td>0</td>\n",
       "      <td>0</td>\n",
       "      <td>0</td>\n",
       "      <td>No</td>\n",
       "      <td>0</td>\n",
       "    </tr>\n",
       "  </tbody>\n",
       "</table>\n",
       "</div>"
      ],
      "text/plain": [
       "  Gender              ScheduledDay            AppointmentDay  Age  \\\n",
       "0      F 2016-04-29 18:38:08+00:00 2016-04-29 00:00:00+00:00   62   \n",
       "1      M 2016-04-29 16:08:27+00:00 2016-04-29 00:00:00+00:00   56   \n",
       "2      F 2016-04-29 16:19:04+00:00 2016-04-29 00:00:00+00:00   62   \n",
       "3      F 2016-04-29 17:29:31+00:00 2016-04-29 00:00:00+00:00    8   \n",
       "\n",
       "       Neighbourhood  Scholarship  Hipertension  Diabetes  Alcoholism  \\\n",
       "0    JARDIM DA PENHA            0             1         0           0   \n",
       "1    JARDIM DA PENHA            0             0         0           0   \n",
       "2      MATA DA PRAIA            0             0         0           0   \n",
       "3  PONTAL DE CAMBURI            0             0         0           0   \n",
       "\n",
       "   Handcap  SMS_received No_show  waiting_days  \n",
       "0        0             0      No             0  \n",
       "1        0             0      No             0  \n",
       "2        0             0      No             0  \n",
       "3        0             0      No             0  "
      ]
     },
     "execution_count": 19,
     "metadata": {},
     "output_type": "execute_result"
    }
   ],
   "source": [
    "df.head(4)"
   ]
  },
  {
   "cell_type": "markdown",
   "id": "c11a5f2d",
   "metadata": {},
   "source": [
    "##### Histogram showing column data distribution"
   ]
  },
  {
   "cell_type": "code",
   "execution_count": 20,
   "id": "2313d2fc",
   "metadata": {},
   "outputs": [],
   "source": [
    "def column_dist():\n",
    "    distribution = df.hist(figsize=(18,12))\n",
    "    return distribution"
   ]
  },
  {
   "cell_type": "code",
   "execution_count": 21,
   "id": "ed880e7c",
   "metadata": {},
   "outputs": [
    {
     "data": {
      "image/png": "[encoded data removed]",
      "text/plain": [
       "<Figure size 1296x864 with 12 Axes>"
      ]
     },
     "metadata": {
      "needs_background": "light"
     },
     "output_type": "display_data"
    }
   ],
   "source": [
    "column_dist();"
   ]
  },
  {
   "cell_type": "markdown",
   "id": "f807b827",
   "metadata": {},
   "source": [
    "#### Histogram Observation\n",
    "\n",
    "There are many young people in the dataset,and the age are evenly distributed\n",
    "\n",
    "ScheduleDay distribution is left-skewed\n",
    "\n",
    "Most patients are not enrolled in Brasillan welfare program\n",
    "\n",
    "Most patient are not alcholic but more diabetes and much more hypertensive\n",
    "\n",
    "Most patients are not Hypertensive"
   ]
  },
  {
   "cell_type": "markdown",
   "id": "85971687",
   "metadata": {},
   "source": [
    "### What age category miss the appointment most and why?"
   ]
  },
  {
   "cell_type": "markdown",
   "id": "e4e1aef8",
   "metadata": {},
   "source": [
    "##### Using box plot to show the Age distribution and check is there are outliers"
   ]
  },
  {
   "cell_type": "code",
   "execution_count": 22,
   "id": "0a111797",
   "metadata": {},
   "outputs": [
    {
     "data": {
      "image/png": "[encoded data removed]",
      "text/plain": [
       "<Figure size 432x288 with 1 Axes>"
      ]
     },
     "metadata": {
      "needs_background": "light"
     },
     "output_type": "display_data"
    }
   ],
   "source": [
    "df['Age'].plot(kind='box', title=\"Age distribution\");"
   ]
  },
  {
   "cell_type": "markdown",
   "id": "fbc5625a",
   "metadata": {},
   "source": [
    "#### Boxplot above shows an outlier of age 115, mean age of 37, and most patients aged between 20-55."
   ]
  },
  {
   "cell_type": "markdown",
   "id": "99b2f68a",
   "metadata": {},
   "source": [
    "##### creating a bin category for age using pandas.cut"
   ]
  },
  {
   "cell_type": "code",
   "execution_count": 23,
   "id": "ecf30a5f",
   "metadata": {},
   "outputs": [
    {
     "data": {
      "text/plain": [
       "count    109892.000000\n",
       "mean         37.089506\n",
       "std          23.121196\n",
       "min          -1.000000\n",
       "25%          18.000000\n",
       "50%          37.000000\n",
       "75%          55.000000\n",
       "max         115.000000\n",
       "Name: Age, dtype: float64"
      ]
     },
     "execution_count": 23,
     "metadata": {},
     "output_type": "execute_result"
    }
   ],
   "source": [
    "df['Age'].describe()"
   ]
  },
  {
   "cell_type": "code",
   "execution_count": 24,
   "id": "0914854e",
   "metadata": {},
   "outputs": [
    {
     "data": {
      "text/html": [
       "<div>\n",
       "<style scoped>\n",
       "    .dataframe tbody tr th:only-of-type {\n",
       "        vertical-align: middle;\n",
       "    }\n",
       "\n",
       "    .dataframe tbody tr th {\n",
       "        vertical-align: top;\n",
       "    }\n",
       "\n",
       "    .dataframe thead th {\n",
       "        text-align: right;\n",
       "    }\n",
       "</style>\n",
       "<table border=\"1\" class=\"dataframe\">\n",
       "  <thead>\n",
       "    <tr style=\"text-align: right;\">\n",
       "      <th></th>\n",
       "      <th>Gender</th>\n",
       "      <th>ScheduledDay</th>\n",
       "      <th>AppointmentDay</th>\n",
       "      <th>Age</th>\n",
       "      <th>Neighbourhood</th>\n",
       "      <th>Scholarship</th>\n",
       "      <th>Hipertension</th>\n",
       "      <th>Diabetes</th>\n",
       "      <th>Alcoholism</th>\n",
       "      <th>Handcap</th>\n",
       "      <th>SMS_received</th>\n",
       "      <th>No_show</th>\n",
       "      <th>waiting_days</th>\n",
       "    </tr>\n",
       "  </thead>\n",
       "  <tbody>\n",
       "    <tr>\n",
       "      <th>99832</th>\n",
       "      <td>F</td>\n",
       "      <td>2016-06-06 08:58:13+00:00</td>\n",
       "      <td>2016-06-06 00:00:00+00:00</td>\n",
       "      <td>-1</td>\n",
       "      <td>ROMÃO</td>\n",
       "      <td>0</td>\n",
       "      <td>0</td>\n",
       "      <td>0</td>\n",
       "      <td>0</td>\n",
       "      <td>0</td>\n",
       "      <td>0</td>\n",
       "      <td>No</td>\n",
       "      <td>0</td>\n",
       "    </tr>\n",
       "  </tbody>\n",
       "</table>\n",
       "</div>"
      ],
      "text/plain": [
       "      Gender              ScheduledDay            AppointmentDay  Age  \\\n",
       "99832      F 2016-06-06 08:58:13+00:00 2016-06-06 00:00:00+00:00   -1   \n",
       "\n",
       "      Neighbourhood  Scholarship  Hipertension  Diabetes  Alcoholism  Handcap  \\\n",
       "99832         ROMÃO            0             0         0           0        0   \n",
       "\n",
       "       SMS_received No_show  waiting_days  \n",
       "99832             0      No             0  "
      ]
     },
     "execution_count": 24,
     "metadata": {},
     "output_type": "execute_result"
    }
   ],
   "source": [
    "df.query('Age<0')"
   ]
  },
  {
   "cell_type": "markdown",
   "id": "12ae307f",
   "metadata": {},
   "source": [
    "Note: It's not possible for age to be less than 0. So dropping the row will be good"
   ]
  },
  {
   "cell_type": "code",
   "execution_count": 25,
   "id": "82a396b7",
   "metadata": {},
   "outputs": [],
   "source": [
    "df = df[df['Age'] > 0]  "
   ]
  },
  {
   "cell_type": "code",
   "execution_count": 26,
   "id": "ab362636",
   "metadata": {},
   "outputs": [
    {
     "data": {
      "text/plain": [
       "count    106361.000000\n",
       "mean         38.320822\n",
       "std          22.475574\n",
       "min           1.000000\n",
       "25%          19.000000\n",
       "50%          38.000000\n",
       "75%          56.000000\n",
       "max         115.000000\n",
       "Name: Age, dtype: float64"
      ]
     },
     "execution_count": 26,
     "metadata": {},
     "output_type": "execute_result"
    }
   ],
   "source": [
    "df['Age'].describe() #Ensuring Age<0 have been dropped"
   ]
  },
  {
   "cell_type": "code",
   "execution_count": 27,
   "id": "b0a2d648",
   "metadata": {
    "scrolled": true
   },
   "outputs": [
    {
     "data": {
      "text/html": [
       "<div>\n",
       "<style scoped>\n",
       "    .dataframe tbody tr th:only-of-type {\n",
       "        vertical-align: middle;\n",
       "    }\n",
       "\n",
       "    .dataframe tbody tr th {\n",
       "        vertical-align: top;\n",
       "    }\n",
       "\n",
       "    .dataframe thead th {\n",
       "        text-align: right;\n",
       "    }\n",
       "</style>\n",
       "<table border=\"1\" class=\"dataframe\">\n",
       "  <thead>\n",
       "    <tr style=\"text-align: right;\">\n",
       "      <th></th>\n",
       "      <th>Gender</th>\n",
       "      <th>ScheduledDay</th>\n",
       "      <th>AppointmentDay</th>\n",
       "      <th>Age</th>\n",
       "      <th>Neighbourhood</th>\n",
       "      <th>Scholarship</th>\n",
       "      <th>Hipertension</th>\n",
       "      <th>Diabetes</th>\n",
       "      <th>Alcoholism</th>\n",
       "      <th>Handcap</th>\n",
       "      <th>SMS_received</th>\n",
       "      <th>No_show</th>\n",
       "      <th>waiting_days</th>\n",
       "      <th>Age_category</th>\n",
       "    </tr>\n",
       "  </thead>\n",
       "  <tbody>\n",
       "    <tr>\n",
       "      <th>0</th>\n",
       "      <td>F</td>\n",
       "      <td>2016-04-29 18:38:08+00:00</td>\n",
       "      <td>2016-04-29 00:00:00+00:00</td>\n",
       "      <td>62</td>\n",
       "      <td>JARDIM DA PENHA</td>\n",
       "      <td>0</td>\n",
       "      <td>1</td>\n",
       "      <td>0</td>\n",
       "      <td>0</td>\n",
       "      <td>0</td>\n",
       "      <td>0</td>\n",
       "      <td>No</td>\n",
       "      <td>0</td>\n",
       "      <td>Old</td>\n",
       "    </tr>\n",
       "    <tr>\n",
       "      <th>1</th>\n",
       "      <td>M</td>\n",
       "      <td>2016-04-29 16:08:27+00:00</td>\n",
       "      <td>2016-04-29 00:00:00+00:00</td>\n",
       "      <td>56</td>\n",
       "      <td>JARDIM DA PENHA</td>\n",
       "      <td>0</td>\n",
       "      <td>0</td>\n",
       "      <td>0</td>\n",
       "      <td>0</td>\n",
       "      <td>0</td>\n",
       "      <td>0</td>\n",
       "      <td>No</td>\n",
       "      <td>0</td>\n",
       "      <td>Adult</td>\n",
       "    </tr>\n",
       "    <tr>\n",
       "      <th>2</th>\n",
       "      <td>F</td>\n",
       "      <td>2016-04-29 16:19:04+00:00</td>\n",
       "      <td>2016-04-29 00:00:00+00:00</td>\n",
       "      <td>62</td>\n",
       "      <td>MATA DA PRAIA</td>\n",
       "      <td>0</td>\n",
       "      <td>0</td>\n",
       "      <td>0</td>\n",
       "      <td>0</td>\n",
       "      <td>0</td>\n",
       "      <td>0</td>\n",
       "      <td>No</td>\n",
       "      <td>0</td>\n",
       "      <td>Old</td>\n",
       "    </tr>\n",
       "    <tr>\n",
       "      <th>3</th>\n",
       "      <td>F</td>\n",
       "      <td>2016-04-29 17:29:31+00:00</td>\n",
       "      <td>2016-04-29 00:00:00+00:00</td>\n",
       "      <td>8</td>\n",
       "      <td>PONTAL DE CAMBURI</td>\n",
       "      <td>0</td>\n",
       "      <td>0</td>\n",
       "      <td>0</td>\n",
       "      <td>0</td>\n",
       "      <td>0</td>\n",
       "      <td>0</td>\n",
       "      <td>No</td>\n",
       "      <td>0</td>\n",
       "      <td>Child</td>\n",
       "    </tr>\n",
       "  </tbody>\n",
       "</table>\n",
       "</div>"
      ],
      "text/plain": [
       "  Gender              ScheduledDay            AppointmentDay  Age  \\\n",
       "0      F 2016-04-29 18:38:08+00:00 2016-04-29 00:00:00+00:00   62   \n",
       "1      M 2016-04-29 16:08:27+00:00 2016-04-29 00:00:00+00:00   56   \n",
       "2      F 2016-04-29 16:19:04+00:00 2016-04-29 00:00:00+00:00   62   \n",
       "3      F 2016-04-29 17:29:31+00:00 2016-04-29 00:00:00+00:00    8   \n",
       "\n",
       "       Neighbourhood  Scholarship  Hipertension  Diabetes  Alcoholism  \\\n",
       "0    JARDIM DA PENHA            0             1         0           0   \n",
       "1    JARDIM DA PENHA            0             0         0           0   \n",
       "2      MATA DA PRAIA            0             0         0           0   \n",
       "3  PONTAL DE CAMBURI            0             0         0           0   \n",
       "\n",
       "   Handcap  SMS_received No_show  waiting_days Age_category  \n",
       "0        0             0      No             0          Old  \n",
       "1        0             0      No             0        Adult  \n",
       "2        0             0      No             0          Old  \n",
       "3        0             0      No             0        Child  "
      ]
     },
     "execution_count": 27,
     "metadata": {},
     "output_type": "execute_result"
    }
   ],
   "source": [
    "age_edges = [1.0, 19.0, 38.0, 56.0, 115.0]\n",
    "\n",
    "age_names = ['Child','Youth','Adult','Old']\n",
    "\n",
    "df['Age_category'] = pd.cut(df['Age'], age_edges, labels=age_names)\n",
    "\n",
    "df.head(4)"
   ]
  },
  {
   "cell_type": "markdown",
   "id": "8cebb2e1",
   "metadata": {},
   "source": [
    "##### Grouping Age_category based on scholarship"
   ]
  },
  {
   "cell_type": "code",
   "execution_count": 28,
   "id": "9c1763fa",
   "metadata": {},
   "outputs": [
    {
     "name": "stdout",
     "output_type": "stream",
     "text": [
      "Age_category\n",
      "Child    0.133123\n",
      "Youth    0.140304\n",
      "Adult    0.101234\n",
      "Old      0.034799\n",
      "Name: Scholarship, dtype: float64\n"
     ]
    },
    {
     "data": {
      "image/png": "[encoded data removed]",
      "text/plain": [
       "<Figure size 432x288 with 1 Axes>"
      ]
     },
     "metadata": {
      "needs_background": "light"
     },
     "output_type": "display_data"
    }
   ],
   "source": [
    "print(df.groupby('Age_category').Scholarship.mean())\n",
    "\n",
    "df.groupby('Age_category').Scholarship.mean().plot(kind='bar', title=\"Average age-category by scholarship\");"
   ]
  },
  {
   "cell_type": "markdown",
   "id": "09f644cb",
   "metadata": {},
   "source": [
    "###### Most people that are enrolled in Brasillan welfare program(scholarship) are the youth and children "
   ]
  },
  {
   "cell_type": "markdown",
   "id": "580c770c",
   "metadata": {},
   "source": [
    "#### Analyzing category of people that has hypertension, diabetes and alcohol driven. This can be achieved by grouping the average Age_category based on those factors and visualizing"
   ]
  },
  {
   "cell_type": "code",
   "execution_count": 29,
   "id": "8390b8fb",
   "metadata": {},
   "outputs": [
    {
     "data": {
      "text/html": [
       "<div>\n",
       "<style scoped>\n",
       "    .dataframe tbody tr th:only-of-type {\n",
       "        vertical-align: middle;\n",
       "    }\n",
       "\n",
       "    .dataframe tbody tr th {\n",
       "        vertical-align: top;\n",
       "    }\n",
       "\n",
       "    .dataframe thead th {\n",
       "        text-align: right;\n",
       "    }\n",
       "</style>\n",
       "<table border=\"1\" class=\"dataframe\">\n",
       "  <thead>\n",
       "    <tr style=\"text-align: right;\">\n",
       "      <th></th>\n",
       "      <th>Hipertension</th>\n",
       "      <th>Diabetes</th>\n",
       "      <th>Alcoholism</th>\n",
       "    </tr>\n",
       "    <tr>\n",
       "      <th>Age_category</th>\n",
       "      <th></th>\n",
       "      <th></th>\n",
       "      <th></th>\n",
       "    </tr>\n",
       "  </thead>\n",
       "  <tbody>\n",
       "    <tr>\n",
       "      <th>Child</th>\n",
       "      <td>0.001759</td>\n",
       "      <td>0.002249</td>\n",
       "      <td>0.001268</td>\n",
       "    </tr>\n",
       "    <tr>\n",
       "      <th>Youth</th>\n",
       "      <td>0.049482</td>\n",
       "      <td>0.014480</td>\n",
       "      <td>0.022328</td>\n",
       "    </tr>\n",
       "    <tr>\n",
       "      <th>Adult</th>\n",
       "      <td>0.256972</td>\n",
       "      <td>0.080897</td>\n",
       "      <td>0.063626</td>\n",
       "    </tr>\n",
       "    <tr>\n",
       "      <th>Old</th>\n",
       "      <td>0.521050</td>\n",
       "      <td>0.205064</td>\n",
       "      <td>0.039032</td>\n",
       "    </tr>\n",
       "  </tbody>\n",
       "</table>\n",
       "</div>"
      ],
      "text/plain": [
       "              Hipertension  Diabetes  Alcoholism\n",
       "Age_category                                    \n",
       "Child             0.001759  0.002249    0.001268\n",
       "Youth             0.049482  0.014480    0.022328\n",
       "Adult             0.256972  0.080897    0.063626\n",
       "Old               0.521050  0.205064    0.039032"
      ]
     },
     "execution_count": 29,
     "metadata": {},
     "output_type": "execute_result"
    }
   ],
   "source": [
    "age_factor = df.groupby('Age_category').mean()[['Hipertension','Diabetes', 'Alcoholism']]\n",
    "\n",
    "age_factor"
   ]
  },
  {
   "cell_type": "code",
   "execution_count": 30,
   "id": "55948cde",
   "metadata": {},
   "outputs": [
    {
     "data": {
      "text/plain": [
       "Text(0, 0.5, 'Average')"
      ]
     },
     "execution_count": 30,
     "metadata": {},
     "output_type": "execute_result"
    },
    {
     "data": {
      "image/png": "[encoded data removed]",
      "text/plain": [
       "<Figure size 432x288 with 1 Axes>"
      ]
     },
     "metadata": {
      "needs_background": "light"
     },
     "output_type": "display_data"
    }
   ],
   "source": [
    "age_factor.plot(kind='bar')\n",
    "plt.title(\"Average age category of (hypertension, diabetes and alcoholism)\")\n",
    "plt.xlabel('Age category')\n",
    "plt.ylabel(\"Average\")"
   ]
  },
  {
   "cell_type": "markdown",
   "id": "b8a42225",
   "metadata": {},
   "source": [
    "##### Old people has the highest average hypertension and Diabetes while \n",
    "##### Adult has the highest average Alcoholism"
   ]
  },
  {
   "cell_type": "code",
   "execution_count": 31,
   "id": "69c3904f",
   "metadata": {},
   "outputs": [
    {
     "data": {
      "text/plain": [
       "No     84899\n",
       "Yes    21462\n",
       "Name: No_show, dtype: int64"
      ]
     },
     "execution_count": 31,
     "metadata": {},
     "output_type": "execute_result"
    }
   ],
   "source": [
    "df['No_show'].value_counts() #unique count of \"No_show\""
   ]
  },
  {
   "cell_type": "code",
   "execution_count": 32,
   "id": "80430e07",
   "metadata": {},
   "outputs": [
    {
     "data": {
      "text/plain": [
       "<AxesSubplot:title={'center':'Percentage of No_show appointment'}, ylabel='No_show'>"
      ]
     },
     "execution_count": 32,
     "metadata": {},
     "output_type": "execute_result"
    },
    {
     "data": {
      "image/png": "[encoded data removed]",
      "text/plain": [
       "<Figure size 432x288 with 1 Axes>"
      ]
     },
     "metadata": {},
     "output_type": "display_data"
    }
   ],
   "source": [
    "df['No_show'].value_counts().plot(kind='pie', autopct='%1.1f%%', title=\"Percentage of No_show appointment\")"
   ]
  },
  {
   "cell_type": "code",
   "execution_count": 33,
   "id": "135504f2",
   "metadata": {},
   "outputs": [
    {
     "name": "stdout",
     "output_type": "stream",
     "text": [
      "Age_category  Child  Youth  Adult    Old\n",
      "No_show                                 \n",
      "No            18813  20869  21612  21749\n",
      "Yes            5638   6272   5138   3999\n"
     ]
    }
   ],
   "source": [
    "# Cross tabulation between No-show and Age_category\n",
    "\n",
    "crosstab = pd.crosstab(index=df['No_show'], columns=df['Age_category'])\n",
    "print(crosstab)"
   ]
  },
  {
   "cell_type": "code",
   "execution_count": 34,
   "id": "f35b2fe2",
   "metadata": {},
   "outputs": [
    {
     "data": {
      "text/plain": [
       "<AxesSubplot:title={'center':'No_show appointment by age category'}, xlabel='No_show', ylabel='Frequency'>"
      ]
     },
     "execution_count": 34,
     "metadata": {},
     "output_type": "execute_result"
    },
    {
     "data": {
      "image/png": "[encoded data removed]",
      "text/plain": [
       "<Figure size 504x288 with 1 Axes>"
      ]
     },
     "metadata": {
      "needs_background": "light"
     },
     "output_type": "display_data"
    }
   ],
   "source": [
    " # Grouped bar chart between No-show and Age_category\n",
    "    \n",
    "crosstab.plot.bar(figsize=(7,4), rot=0, title=\"No_show appointment by age category\", ylabel=\"Frequency\")"
   ]
  },
  {
   "cell_type": "markdown",
   "id": "7c2a5c73",
   "metadata": {},
   "source": [
    "#### 79.9% of patients show up to the doctor's appointment, while 20.1% did not\n",
    "\n",
    "#### Among the 20.1% who failed to show up for the appointment, Child and Youth had the highest rate. This may be because hypertension, diabetes, and alcoholism are rare among them\n",
    "#### Based on 79.9% of patients that showed up, Old, Adult always showed up the most because they often had hypertension, diabetes, and alcoholism. while most youth that show up is as a result of being enrolled in Brasillian Welfare program i.e scholarship"
   ]
  },
  {
   "cell_type": "code",
   "execution_count": 35,
   "id": "a55ab5ec",
   "metadata": {},
   "outputs": [
    {
     "data": {
      "text/html": [
       "<div>\n",
       "<style scoped>\n",
       "    .dataframe tbody tr th:only-of-type {\n",
       "        vertical-align: middle;\n",
       "    }\n",
       "\n",
       "    .dataframe tbody tr th {\n",
       "        vertical-align: top;\n",
       "    }\n",
       "\n",
       "    .dataframe thead th {\n",
       "        text-align: right;\n",
       "    }\n",
       "</style>\n",
       "<table border=\"1\" class=\"dataframe\">\n",
       "  <thead>\n",
       "    <tr style=\"text-align: right;\">\n",
       "      <th></th>\n",
       "      <th>Gender</th>\n",
       "      <th>ScheduledDay</th>\n",
       "      <th>AppointmentDay</th>\n",
       "      <th>Age</th>\n",
       "      <th>Neighbourhood</th>\n",
       "      <th>Scholarship</th>\n",
       "      <th>Hipertension</th>\n",
       "      <th>Diabetes</th>\n",
       "      <th>Alcoholism</th>\n",
       "      <th>Handcap</th>\n",
       "      <th>SMS_received</th>\n",
       "      <th>No_show</th>\n",
       "      <th>waiting_days</th>\n",
       "      <th>Age_category</th>\n",
       "    </tr>\n",
       "  </thead>\n",
       "  <tbody>\n",
       "    <tr>\n",
       "      <th>0</th>\n",
       "      <td>F</td>\n",
       "      <td>2016-04-29 18:38:08+00:00</td>\n",
       "      <td>2016-04-29 00:00:00+00:00</td>\n",
       "      <td>62</td>\n",
       "      <td>JARDIM DA PENHA</td>\n",
       "      <td>0</td>\n",
       "      <td>1</td>\n",
       "      <td>0</td>\n",
       "      <td>0</td>\n",
       "      <td>0</td>\n",
       "      <td>0</td>\n",
       "      <td>No</td>\n",
       "      <td>0</td>\n",
       "      <td>Old</td>\n",
       "    </tr>\n",
       "    <tr>\n",
       "      <th>1</th>\n",
       "      <td>M</td>\n",
       "      <td>2016-04-29 16:08:27+00:00</td>\n",
       "      <td>2016-04-29 00:00:00+00:00</td>\n",
       "      <td>56</td>\n",
       "      <td>JARDIM DA PENHA</td>\n",
       "      <td>0</td>\n",
       "      <td>0</td>\n",
       "      <td>0</td>\n",
       "      <td>0</td>\n",
       "      <td>0</td>\n",
       "      <td>0</td>\n",
       "      <td>No</td>\n",
       "      <td>0</td>\n",
       "      <td>Adult</td>\n",
       "    </tr>\n",
       "  </tbody>\n",
       "</table>\n",
       "</div>"
      ],
      "text/plain": [
       "  Gender              ScheduledDay            AppointmentDay  Age  \\\n",
       "0      F 2016-04-29 18:38:08+00:00 2016-04-29 00:00:00+00:00   62   \n",
       "1      M 2016-04-29 16:08:27+00:00 2016-04-29 00:00:00+00:00   56   \n",
       "\n",
       "     Neighbourhood  Scholarship  Hipertension  Diabetes  Alcoholism  Handcap  \\\n",
       "0  JARDIM DA PENHA            0             1         0           0        0   \n",
       "1  JARDIM DA PENHA            0             0         0           0        0   \n",
       "\n",
       "   SMS_received No_show  waiting_days Age_category  \n",
       "0             0      No             0          Old  \n",
       "1             0      No             0        Adult  "
      ]
     },
     "execution_count": 35,
     "metadata": {},
     "output_type": "execute_result"
    }
   ],
   "source": [
    "df.head(2)"
   ]
  },
  {
   "cell_type": "markdown",
   "id": "a6a19ae3",
   "metadata": {},
   "source": [
    "### Is waiting days a factor in showing up for a doctor's appointment?"
   ]
  },
  {
   "cell_type": "markdown",
   "id": "e8786c9a",
   "metadata": {},
   "source": [
    "##### statiscal info on waiting_days"
   ]
  },
  {
   "cell_type": "code",
   "execution_count": 36,
   "id": "bbbca317",
   "metadata": {},
   "outputs": [
    {
     "data": {
      "text/plain": [
       "count    106361.000000\n",
       "mean         10.139882\n",
       "std          15.259557\n",
       "min          -6.000000\n",
       "25%           0.000000\n",
       "50%           4.000000\n",
       "75%          14.000000\n",
       "max         179.000000\n",
       "Name: waiting_days, dtype: float64"
      ]
     },
     "execution_count": 36,
     "metadata": {},
     "output_type": "execute_result"
    }
   ],
   "source": [
    "df['waiting_days'].describe()"
   ]
  },
  {
   "cell_type": "code",
   "execution_count": 37,
   "id": "1938b94f",
   "metadata": {},
   "outputs": [
    {
     "data": {
      "text/plain": [
       "179"
      ]
     },
     "execution_count": 37,
     "metadata": {},
     "output_type": "execute_result"
    }
   ],
   "source": [
    "df['waiting_days'].max()"
   ]
  },
  {
   "cell_type": "code",
   "execution_count": 38,
   "id": "40f6f98d",
   "metadata": {},
   "outputs": [
    {
     "data": {
      "text/html": [
       "<div>\n",
       "<style scoped>\n",
       "    .dataframe tbody tr th:only-of-type {\n",
       "        vertical-align: middle;\n",
       "    }\n",
       "\n",
       "    .dataframe tbody tr th {\n",
       "        vertical-align: top;\n",
       "    }\n",
       "\n",
       "    .dataframe thead th {\n",
       "        text-align: right;\n",
       "    }\n",
       "</style>\n",
       "<table border=\"1\" class=\"dataframe\">\n",
       "  <thead>\n",
       "    <tr style=\"text-align: right;\">\n",
       "      <th></th>\n",
       "      <th>Gender</th>\n",
       "      <th>ScheduledDay</th>\n",
       "      <th>AppointmentDay</th>\n",
       "      <th>Age</th>\n",
       "      <th>Neighbourhood</th>\n",
       "      <th>Scholarship</th>\n",
       "      <th>Hipertension</th>\n",
       "      <th>Diabetes</th>\n",
       "      <th>Alcoholism</th>\n",
       "      <th>Handcap</th>\n",
       "      <th>SMS_received</th>\n",
       "      <th>No_show</th>\n",
       "      <th>waiting_days</th>\n",
       "      <th>Age_category</th>\n",
       "    </tr>\n",
       "  </thead>\n",
       "  <tbody>\n",
       "    <tr>\n",
       "      <th>102786</th>\n",
       "      <td>M</td>\n",
       "      <td>2015-12-07 10:43:34+00:00</td>\n",
       "      <td>2016-06-03 00:00:00+00:00</td>\n",
       "      <td>67</td>\n",
       "      <td>MARUÍPE</td>\n",
       "      <td>0</td>\n",
       "      <td>1</td>\n",
       "      <td>1</td>\n",
       "      <td>0</td>\n",
       "      <td>0</td>\n",
       "      <td>0</td>\n",
       "      <td>No</td>\n",
       "      <td>179</td>\n",
       "      <td>Old</td>\n",
       "    </tr>\n",
       "    <tr>\n",
       "      <th>102788</th>\n",
       "      <td>F</td>\n",
       "      <td>2015-12-07 10:45:01+00:00</td>\n",
       "      <td>2016-06-03 00:00:00+00:00</td>\n",
       "      <td>63</td>\n",
       "      <td>SÃO CRISTÓVÃO</td>\n",
       "      <td>0</td>\n",
       "      <td>1</td>\n",
       "      <td>1</td>\n",
       "      <td>0</td>\n",
       "      <td>0</td>\n",
       "      <td>1</td>\n",
       "      <td>No</td>\n",
       "      <td>179</td>\n",
       "      <td>Old</td>\n",
       "    </tr>\n",
       "    <tr>\n",
       "      <th>102789</th>\n",
       "      <td>F</td>\n",
       "      <td>2015-12-07 10:44:25+00:00</td>\n",
       "      <td>2016-06-03 00:00:00+00:00</td>\n",
       "      <td>60</td>\n",
       "      <td>SÃO CRISTÓVÃO</td>\n",
       "      <td>0</td>\n",
       "      <td>1</td>\n",
       "      <td>1</td>\n",
       "      <td>0</td>\n",
       "      <td>0</td>\n",
       "      <td>1</td>\n",
       "      <td>No</td>\n",
       "      <td>179</td>\n",
       "      <td>Old</td>\n",
       "    </tr>\n",
       "    <tr>\n",
       "      <th>102790</th>\n",
       "      <td>M</td>\n",
       "      <td>2015-12-07 10:44:40+00:00</td>\n",
       "      <td>2016-06-03 00:00:00+00:00</td>\n",
       "      <td>73</td>\n",
       "      <td>MARUÍPE</td>\n",
       "      <td>0</td>\n",
       "      <td>1</td>\n",
       "      <td>1</td>\n",
       "      <td>0</td>\n",
       "      <td>0</td>\n",
       "      <td>0</td>\n",
       "      <td>No</td>\n",
       "      <td>179</td>\n",
       "      <td>Old</td>\n",
       "    </tr>\n",
       "    <tr>\n",
       "      <th>102791</th>\n",
       "      <td>F</td>\n",
       "      <td>2015-12-07 10:43:50+00:00</td>\n",
       "      <td>2016-06-03 00:00:00+00:00</td>\n",
       "      <td>77</td>\n",
       "      <td>SÃO CRISTÓVÃO</td>\n",
       "      <td>0</td>\n",
       "      <td>1</td>\n",
       "      <td>1</td>\n",
       "      <td>0</td>\n",
       "      <td>0</td>\n",
       "      <td>1</td>\n",
       "      <td>No</td>\n",
       "      <td>179</td>\n",
       "      <td>Old</td>\n",
       "    </tr>\n",
       "    <tr>\n",
       "      <th>102792</th>\n",
       "      <td>M</td>\n",
       "      <td>2015-12-07 10:44:07+00:00</td>\n",
       "      <td>2016-06-03 00:00:00+00:00</td>\n",
       "      <td>73</td>\n",
       "      <td>MARUÍPE</td>\n",
       "      <td>0</td>\n",
       "      <td>1</td>\n",
       "      <td>1</td>\n",
       "      <td>0</td>\n",
       "      <td>1</td>\n",
       "      <td>0</td>\n",
       "      <td>Yes</td>\n",
       "      <td>179</td>\n",
       "      <td>Old</td>\n",
       "    </tr>\n",
       "    <tr>\n",
       "      <th>102795</th>\n",
       "      <td>F</td>\n",
       "      <td>2015-12-07 10:40:59+00:00</td>\n",
       "      <td>2016-06-03 00:00:00+00:00</td>\n",
       "      <td>27</td>\n",
       "      <td>SÃO CRISTÓVÃO</td>\n",
       "      <td>1</td>\n",
       "      <td>0</td>\n",
       "      <td>0</td>\n",
       "      <td>0</td>\n",
       "      <td>0</td>\n",
       "      <td>1</td>\n",
       "      <td>Yes</td>\n",
       "      <td>179</td>\n",
       "      <td>Youth</td>\n",
       "    </tr>\n",
       "    <tr>\n",
       "      <th>102796</th>\n",
       "      <td>F</td>\n",
       "      <td>2015-12-07 10:43:01+00:00</td>\n",
       "      <td>2016-06-03 00:00:00+00:00</td>\n",
       "      <td>80</td>\n",
       "      <td>SÃO CRISTÓVÃO</td>\n",
       "      <td>0</td>\n",
       "      <td>1</td>\n",
       "      <td>1</td>\n",
       "      <td>0</td>\n",
       "      <td>0</td>\n",
       "      <td>1</td>\n",
       "      <td>No</td>\n",
       "      <td>179</td>\n",
       "      <td>Old</td>\n",
       "    </tr>\n",
       "    <tr>\n",
       "      <th>102797</th>\n",
       "      <td>F</td>\n",
       "      <td>2015-12-07 10:42:42+00:00</td>\n",
       "      <td>2016-06-03 00:00:00+00:00</td>\n",
       "      <td>48</td>\n",
       "      <td>MARUÍPE</td>\n",
       "      <td>0</td>\n",
       "      <td>1</td>\n",
       "      <td>1</td>\n",
       "      <td>0</td>\n",
       "      <td>0</td>\n",
       "      <td>1</td>\n",
       "      <td>No</td>\n",
       "      <td>179</td>\n",
       "      <td>Adult</td>\n",
       "    </tr>\n",
       "    <tr>\n",
       "      <th>102799</th>\n",
       "      <td>F</td>\n",
       "      <td>2015-12-07 10:43:17+00:00</td>\n",
       "      <td>2016-06-03 00:00:00+00:00</td>\n",
       "      <td>74</td>\n",
       "      <td>SÃO CRISTÓVÃO</td>\n",
       "      <td>0</td>\n",
       "      <td>1</td>\n",
       "      <td>1</td>\n",
       "      <td>0</td>\n",
       "      <td>0</td>\n",
       "      <td>1</td>\n",
       "      <td>No</td>\n",
       "      <td>179</td>\n",
       "      <td>Old</td>\n",
       "    </tr>\n",
       "  </tbody>\n",
       "</table>\n",
       "</div>"
      ],
      "text/plain": [
       "       Gender              ScheduledDay            AppointmentDay  Age  \\\n",
       "102786      M 2015-12-07 10:43:34+00:00 2016-06-03 00:00:00+00:00   67   \n",
       "102788      F 2015-12-07 10:45:01+00:00 2016-06-03 00:00:00+00:00   63   \n",
       "102789      F 2015-12-07 10:44:25+00:00 2016-06-03 00:00:00+00:00   60   \n",
       "102790      M 2015-12-07 10:44:40+00:00 2016-06-03 00:00:00+00:00   73   \n",
       "102791      F 2015-12-07 10:43:50+00:00 2016-06-03 00:00:00+00:00   77   \n",
       "102792      M 2015-12-07 10:44:07+00:00 2016-06-03 00:00:00+00:00   73   \n",
       "102795      F 2015-12-07 10:40:59+00:00 2016-06-03 00:00:00+00:00   27   \n",
       "102796      F 2015-12-07 10:43:01+00:00 2016-06-03 00:00:00+00:00   80   \n",
       "102797      F 2015-12-07 10:42:42+00:00 2016-06-03 00:00:00+00:00   48   \n",
       "102799      F 2015-12-07 10:43:17+00:00 2016-06-03 00:00:00+00:00   74   \n",
       "\n",
       "        Neighbourhood  Scholarship  Hipertension  Diabetes  Alcoholism  \\\n",
       "102786        MARUÍPE            0             1         1           0   \n",
       "102788  SÃO CRISTÓVÃO            0             1         1           0   \n",
       "102789  SÃO CRISTÓVÃO            0             1         1           0   \n",
       "102790        MARUÍPE            0             1         1           0   \n",
       "102791  SÃO CRISTÓVÃO            0             1         1           0   \n",
       "102792        MARUÍPE            0             1         1           0   \n",
       "102795  SÃO CRISTÓVÃO            1             0         0           0   \n",
       "102796  SÃO CRISTÓVÃO            0             1         1           0   \n",
       "102797        MARUÍPE            0             1         1           0   \n",
       "102799  SÃO CRISTÓVÃO            0             1         1           0   \n",
       "\n",
       "        Handcap  SMS_received No_show  waiting_days Age_category  \n",
       "102786        0             0      No           179          Old  \n",
       "102788        0             1      No           179          Old  \n",
       "102789        0             1      No           179          Old  \n",
       "102790        0             0      No           179          Old  \n",
       "102791        0             1      No           179          Old  \n",
       "102792        1             0     Yes           179          Old  \n",
       "102795        0             1     Yes           179        Youth  \n",
       "102796        0             1      No           179          Old  \n",
       "102797        0             1      No           179        Adult  \n",
       "102799        0             1      No           179          Old  "
      ]
     },
     "execution_count": 38,
     "metadata": {},
     "output_type": "execute_result"
    }
   ],
   "source": [
    "df.query('waiting_days==179')"
   ]
  },
  {
   "cell_type": "code",
   "execution_count": 39,
   "id": "02d74738",
   "metadata": {
    "scrolled": true
   },
   "outputs": [
    {
     "data": {
      "text/html": [
       "<div>\n",
       "<style scoped>\n",
       "    .dataframe tbody tr th:only-of-type {\n",
       "        vertical-align: middle;\n",
       "    }\n",
       "\n",
       "    .dataframe tbody tr th {\n",
       "        vertical-align: top;\n",
       "    }\n",
       "\n",
       "    .dataframe thead th {\n",
       "        text-align: right;\n",
       "    }\n",
       "</style>\n",
       "<table border=\"1\" class=\"dataframe\">\n",
       "  <thead>\n",
       "    <tr style=\"text-align: right;\">\n",
       "      <th></th>\n",
       "      <th>Gender</th>\n",
       "      <th>ScheduledDay</th>\n",
       "      <th>AppointmentDay</th>\n",
       "      <th>Age</th>\n",
       "      <th>Neighbourhood</th>\n",
       "      <th>Scholarship</th>\n",
       "      <th>Hipertension</th>\n",
       "      <th>Diabetes</th>\n",
       "      <th>Alcoholism</th>\n",
       "      <th>Handcap</th>\n",
       "      <th>SMS_received</th>\n",
       "      <th>No_show</th>\n",
       "      <th>waiting_days</th>\n",
       "      <th>Age_category</th>\n",
       "    </tr>\n",
       "  </thead>\n",
       "  <tbody>\n",
       "    <tr>\n",
       "      <th>27033</th>\n",
       "      <td>M</td>\n",
       "      <td>2016-05-10 10:51:53+00:00</td>\n",
       "      <td>2016-05-09 00:00:00+00:00</td>\n",
       "      <td>38</td>\n",
       "      <td>RESISTÊNCIA</td>\n",
       "      <td>0</td>\n",
       "      <td>0</td>\n",
       "      <td>0</td>\n",
       "      <td>0</td>\n",
       "      <td>1</td>\n",
       "      <td>0</td>\n",
       "      <td>Yes</td>\n",
       "      <td>-1</td>\n",
       "      <td>Youth</td>\n",
       "    </tr>\n",
       "    <tr>\n",
       "      <th>55226</th>\n",
       "      <td>F</td>\n",
       "      <td>2016-05-18 14:50:41+00:00</td>\n",
       "      <td>2016-05-17 00:00:00+00:00</td>\n",
       "      <td>19</td>\n",
       "      <td>SANTO ANTÔNIO</td>\n",
       "      <td>0</td>\n",
       "      <td>0</td>\n",
       "      <td>0</td>\n",
       "      <td>0</td>\n",
       "      <td>1</td>\n",
       "      <td>0</td>\n",
       "      <td>Yes</td>\n",
       "      <td>-1</td>\n",
       "      <td>Child</td>\n",
       "    </tr>\n",
       "    <tr>\n",
       "      <th>64175</th>\n",
       "      <td>F</td>\n",
       "      <td>2016-05-05 13:43:58+00:00</td>\n",
       "      <td>2016-05-04 00:00:00+00:00</td>\n",
       "      <td>22</td>\n",
       "      <td>CONSOLAÇÃO</td>\n",
       "      <td>0</td>\n",
       "      <td>0</td>\n",
       "      <td>0</td>\n",
       "      <td>0</td>\n",
       "      <td>0</td>\n",
       "      <td>0</td>\n",
       "      <td>Yes</td>\n",
       "      <td>-1</td>\n",
       "      <td>Youth</td>\n",
       "    </tr>\n",
       "    <tr>\n",
       "      <th>71533</th>\n",
       "      <td>F</td>\n",
       "      <td>2016-05-11 13:49:20+00:00</td>\n",
       "      <td>2016-05-05 00:00:00+00:00</td>\n",
       "      <td>81</td>\n",
       "      <td>SANTO ANTÔNIO</td>\n",
       "      <td>0</td>\n",
       "      <td>0</td>\n",
       "      <td>0</td>\n",
       "      <td>0</td>\n",
       "      <td>0</td>\n",
       "      <td>0</td>\n",
       "      <td>Yes</td>\n",
       "      <td>-6</td>\n",
       "      <td>Old</td>\n",
       "    </tr>\n",
       "    <tr>\n",
       "      <th>72362</th>\n",
       "      <td>M</td>\n",
       "      <td>2016-05-04 06:50:57+00:00</td>\n",
       "      <td>2016-05-03 00:00:00+00:00</td>\n",
       "      <td>7</td>\n",
       "      <td>TABUAZEIRO</td>\n",
       "      <td>0</td>\n",
       "      <td>0</td>\n",
       "      <td>0</td>\n",
       "      <td>0</td>\n",
       "      <td>0</td>\n",
       "      <td>0</td>\n",
       "      <td>Yes</td>\n",
       "      <td>-1</td>\n",
       "      <td>Child</td>\n",
       "    </tr>\n",
       "  </tbody>\n",
       "</table>\n",
       "</div>"
      ],
      "text/plain": [
       "      Gender              ScheduledDay            AppointmentDay  Age  \\\n",
       "27033      M 2016-05-10 10:51:53+00:00 2016-05-09 00:00:00+00:00   38   \n",
       "55226      F 2016-05-18 14:50:41+00:00 2016-05-17 00:00:00+00:00   19   \n",
       "64175      F 2016-05-05 13:43:58+00:00 2016-05-04 00:00:00+00:00   22   \n",
       "71533      F 2016-05-11 13:49:20+00:00 2016-05-05 00:00:00+00:00   81   \n",
       "72362      M 2016-05-04 06:50:57+00:00 2016-05-03 00:00:00+00:00    7   \n",
       "\n",
       "       Neighbourhood  Scholarship  Hipertension  Diabetes  Alcoholism  \\\n",
       "27033    RESISTÊNCIA            0             0         0           0   \n",
       "55226  SANTO ANTÔNIO            0             0         0           0   \n",
       "64175     CONSOLAÇÃO            0             0         0           0   \n",
       "71533  SANTO ANTÔNIO            0             0         0           0   \n",
       "72362     TABUAZEIRO            0             0         0           0   \n",
       "\n",
       "       Handcap  SMS_received No_show  waiting_days Age_category  \n",
       "27033        1             0     Yes            -1        Youth  \n",
       "55226        1             0     Yes            -1        Child  \n",
       "64175        0             0     Yes            -1        Youth  \n",
       "71533        0             0     Yes            -6          Old  \n",
       "72362        0             0     Yes            -1        Child  "
      ]
     },
     "execution_count": 39,
     "metadata": {},
     "output_type": "execute_result"
    }
   ],
   "source": [
    "df.query('waiting_days<0')"
   ]
  },
  {
   "cell_type": "markdown",
   "id": "f789be86",
   "metadata": {},
   "source": [
    "It's not possible for the days between scheduleDay and AppointmentDay to be negative. This is most likely to occur as a result of wrong data entry.\n",
    "\n",
    "Five patients falls a victim of this."
   ]
  },
  {
   "cell_type": "markdown",
   "id": "d90ab4b4",
   "metadata": {},
   "source": [
    "##### Showing the waiting days distribution by using histogram"
   ]
  },
  {
   "cell_type": "code",
   "execution_count": 40,
   "id": "7c775084",
   "metadata": {},
   "outputs": [
    {
     "data": {
      "image/png": "[encoded data removed]",
      "text/plain": [
       "<Figure size 432x288 with 1 Axes>"
      ]
     },
     "metadata": {
      "needs_background": "light"
     },
     "output_type": "display_data"
    }
   ],
   "source": [
    "df['waiting_days'].plot(kind='hist', title='Waiting days distribution', \n",
    "                        xlabel='waiting days', ylabel='Frequency');"
   ]
  },
  {
   "cell_type": "markdown",
   "id": "ae746e49",
   "metadata": {},
   "source": [
    "The above distribution shows the waiting_days is skewed to the right."
   ]
  },
  {
   "cell_type": "code",
   "execution_count": 41,
   "id": "1aabdd50",
   "metadata": {},
   "outputs": [
    {
     "name": "stdout",
     "output_type": "stream",
     "text": [
      "No_show\n",
      "No      8.717217\n",
      "Yes    15.767636\n",
      "Name: waiting_days, dtype: float64\n"
     ]
    },
    {
     "data": {
      "image/png": "[encoded data removed]",
      "text/plain": [
       "<Figure size 432x288 with 1 Axes>"
      ]
     },
     "metadata": {
      "needs_background": "light"
     },
     "output_type": "display_data"
    }
   ],
   "source": [
    "#Average No_show waiting days\n",
    "\n",
    "print(df.groupby('No_show').waiting_days.mean())\n",
    "\n",
    "df.groupby('No_show').waiting_days.mean().plot(kind='bar', title=\"Average waiting days appointment\", \n",
    "                                               xlabel='No_show', ylabel='Average');"
   ]
  },
  {
   "cell_type": "markdown",
   "id": "43b8190d",
   "metadata": {},
   "source": [
    "Further analyzing waiting days"
   ]
  },
  {
   "cell_type": "code",
   "execution_count": 42,
   "id": "af73b7a4",
   "metadata": {},
   "outputs": [
    {
     "data": {
      "text/plain": [
       "4.0"
      ]
     },
     "execution_count": 42,
     "metadata": {},
     "output_type": "execute_result"
    }
   ],
   "source": [
    "df['waiting_days'].median()"
   ]
  },
  {
   "cell_type": "markdown",
   "id": "769a4e70",
   "metadata": {},
   "source": [
    "##### Filtering the data based on median"
   ]
  },
  {
   "cell_type": "code",
   "execution_count": 43,
   "id": "8c20d134",
   "metadata": {},
   "outputs": [],
   "source": [
    "no_waiting_days = df.query('waiting_days==0')\n",
    "\n",
    "low_waiting_days = df.query('0<waiting_days<4.0')\n",
    "\n",
    "high_waiting_days = df.query('waiting_days>=4.0')"
   ]
  },
  {
   "cell_type": "code",
   "execution_count": 44,
   "id": "f4fd4f0f",
   "metadata": {},
   "outputs": [
    {
     "name": "stdout",
     "output_type": "stream",
     "text": [
      "no_waiting_days has shape (37072, 14)\n",
      "Low_waiting_days has shape (14200, 14)\n",
      "high_waiting_days has shape (55084, 14)\n"
     ]
    }
   ],
   "source": [
    "print(\"no_waiting_days has shape {}\".format(no_waiting_days.shape))\n",
    "print(\"Low_waiting_days has shape {}\".format(low_waiting_days.shape))\n",
    "print(\"high_waiting_days has shape {}\".format(high_waiting_days.shape))"
   ]
  },
  {
   "cell_type": "markdown",
   "id": "7616dc70",
   "metadata": {},
   "source": [
    "#### visualizing waiting_days based on no_show"
   ]
  },
  {
   "cell_type": "code",
   "execution_count": 45,
   "id": "50281b01",
   "metadata": {},
   "outputs": [
    {
     "name": "stdout",
     "output_type": "stream",
     "text": [
      "No     35346\n",
      "Yes     1726\n",
      "Name: No_show, dtype: int64\n"
     ]
    },
    {
     "data": {
      "image/png": "[encoded data removed]",
      "text/plain": [
       "<Figure size 432x288 with 1 Axes>"
      ]
     },
     "metadata": {
      "needs_background": "light"
     },
     "output_type": "display_data"
    }
   ],
   "source": [
    "print(no_waiting_days['No_show'].value_counts())\n",
    "\n",
    "no_waiting_days['No_show'].value_counts().plot(kind='bar', title='Zero waiting days by appointment', \n",
    "                                               ylabel='Fequency', xlabel='No_show appointment');"
   ]
  },
  {
   "cell_type": "code",
   "execution_count": 46,
   "id": "9000bf6e",
   "metadata": {},
   "outputs": [
    {
     "name": "stdout",
     "output_type": "stream",
     "text": [
      "No     10948\n",
      "Yes     3252\n",
      "Name: No_show, dtype: int64\n"
     ]
    },
    {
     "data": {
      "image/png": "[encoded data removed]",
      "text/plain": [
       "<Figure size 432x288 with 1 Axes>"
      ]
     },
     "metadata": {
      "needs_background": "light"
     },
     "output_type": "display_data"
    }
   ],
   "source": [
    "print(low_waiting_days['No_show'].value_counts())\n",
    "\n",
    "low_waiting_days['No_show'].value_counts().plot(kind='bar', title='Low waiting days by appointment', \n",
    "                                                xlabel='No_show appointment', ylabel='Frequency');"
   ]
  },
  {
   "cell_type": "code",
   "execution_count": 47,
   "id": "1ddf410b",
   "metadata": {},
   "outputs": [
    {
     "name": "stdout",
     "output_type": "stream",
     "text": [
      "No     38605\n",
      "Yes    16479\n",
      "Name: No_show, dtype: int64\n"
     ]
    },
    {
     "data": {
      "image/png": "[encoded data removed]",
      "text/plain": [
       "<Figure size 432x288 with 1 Axes>"
      ]
     },
     "metadata": {
      "needs_background": "light"
     },
     "output_type": "display_data"
    }
   ],
   "source": [
    "print(high_waiting_days['No_show'].value_counts())\n",
    "\n",
    "high_waiting_days['No_show'].value_counts().plot(kind='bar', title='High waiting days by appointment', \n",
    "                                                 xlabel='No_show appointment', ylabel='Frequency');"
   ]
  },
  {
   "cell_type": "markdown",
   "id": "a527603c",
   "metadata": {},
   "source": [
    "#### The majority of patients whose appointment day is the scheduled day showed up. In general, the longer the waiting days, the greater the possibility of patients not showing up"
   ]
  },
  {
   "cell_type": "markdown",
   "id": "2a2f95cc",
   "metadata": {},
   "source": [
    "### Does sms_received prompt patients to show for their appointment"
   ]
  },
  {
   "cell_type": "code",
   "execution_count": 48,
   "id": "d338ef2b",
   "metadata": {},
   "outputs": [
    {
     "data": {
      "text/plain": [
       "count    106361.000000\n",
       "mean          0.325166\n",
       "std           0.468439\n",
       "min           0.000000\n",
       "25%           0.000000\n",
       "50%           0.000000\n",
       "75%           1.000000\n",
       "max           1.000000\n",
       "Name: SMS_received, dtype: float64"
      ]
     },
     "execution_count": 48,
     "metadata": {},
     "output_type": "execute_result"
    }
   ],
   "source": [
    "df['SMS_received'].describe()"
   ]
  },
  {
   "cell_type": "code",
   "execution_count": 49,
   "id": "99838540",
   "metadata": {},
   "outputs": [
    {
     "name": "stdout",
     "output_type": "stream",
     "text": [
      "0    71776\n",
      "1    34585\n",
      "Name: SMS_received, dtype: int64\n"
     ]
    },
    {
     "data": {
      "image/png": "[encoded data removed]",
      "text/plain": [
       "<Figure size 432x288 with 1 Axes>"
      ]
     },
     "metadata": {},
     "output_type": "display_data"
    }
   ],
   "source": [
    "# count of SMS_received\n",
    "print(df['SMS_received'].value_counts())\n",
    "\n",
    "df['SMS_received'].value_counts().plot(kind='pie', autopct='%1.1f%%', title='Pecentage of SMS received');"
   ]
  },
  {
   "cell_type": "markdown",
   "id": "9f5054ed",
   "metadata": {},
   "source": [
    "##### 32.3%(35,482) of the patients received sms while 67.7%(74,427) did not"
   ]
  },
  {
   "cell_type": "markdown",
   "id": "1eb9ee25",
   "metadata": {},
   "source": [
    "#### Further investigating patients that received SMS"
   ]
  },
  {
   "cell_type": "code",
   "execution_count": 50,
   "id": "c3e0262f",
   "metadata": {},
   "outputs": [
    {
     "data": {
      "text/html": [
       "<div>\n",
       "<style scoped>\n",
       "    .dataframe tbody tr th:only-of-type {\n",
       "        vertical-align: middle;\n",
       "    }\n",
       "\n",
       "    .dataframe tbody tr th {\n",
       "        vertical-align: top;\n",
       "    }\n",
       "\n",
       "    .dataframe thead th {\n",
       "        text-align: right;\n",
       "    }\n",
       "</style>\n",
       "<table border=\"1\" class=\"dataframe\">\n",
       "  <thead>\n",
       "    <tr style=\"text-align: right;\">\n",
       "      <th></th>\n",
       "      <th>Gender</th>\n",
       "      <th>ScheduledDay</th>\n",
       "      <th>AppointmentDay</th>\n",
       "      <th>Age</th>\n",
       "      <th>Neighbourhood</th>\n",
       "      <th>Scholarship</th>\n",
       "      <th>Hipertension</th>\n",
       "      <th>Diabetes</th>\n",
       "      <th>Alcoholism</th>\n",
       "      <th>Handcap</th>\n",
       "      <th>SMS_received</th>\n",
       "      <th>No_show</th>\n",
       "      <th>waiting_days</th>\n",
       "      <th>Age_category</th>\n",
       "    </tr>\n",
       "  </thead>\n",
       "  <tbody>\n",
       "    <tr>\n",
       "      <th>11</th>\n",
       "      <td>M</td>\n",
       "      <td>2016-04-26 08:44:12+00:00</td>\n",
       "      <td>2016-04-29 00:00:00+00:00</td>\n",
       "      <td>29</td>\n",
       "      <td>NOVA PALESTINA</td>\n",
       "      <td>0</td>\n",
       "      <td>0</td>\n",
       "      <td>0</td>\n",
       "      <td>0</td>\n",
       "      <td>0</td>\n",
       "      <td>1</td>\n",
       "      <td>Yes</td>\n",
       "      <td>3</td>\n",
       "      <td>Youth</td>\n",
       "    </tr>\n",
       "    <tr>\n",
       "      <th>15</th>\n",
       "      <td>F</td>\n",
       "      <td>2016-04-26 08:47:27+00:00</td>\n",
       "      <td>2016-04-29 00:00:00+00:00</td>\n",
       "      <td>15</td>\n",
       "      <td>NOVA PALESTINA</td>\n",
       "      <td>0</td>\n",
       "      <td>0</td>\n",
       "      <td>0</td>\n",
       "      <td>0</td>\n",
       "      <td>0</td>\n",
       "      <td>1</td>\n",
       "      <td>No</td>\n",
       "      <td>3</td>\n",
       "      <td>Child</td>\n",
       "    </tr>\n",
       "  </tbody>\n",
       "</table>\n",
       "</div>"
      ],
      "text/plain": [
       "   Gender              ScheduledDay            AppointmentDay  Age  \\\n",
       "11      M 2016-04-26 08:44:12+00:00 2016-04-29 00:00:00+00:00   29   \n",
       "15      F 2016-04-26 08:47:27+00:00 2016-04-29 00:00:00+00:00   15   \n",
       "\n",
       "     Neighbourhood  Scholarship  Hipertension  Diabetes  Alcoholism  Handcap  \\\n",
       "11  NOVA PALESTINA            0             0         0           0        0   \n",
       "15  NOVA PALESTINA            0             0         0           0        0   \n",
       "\n",
       "    SMS_received No_show  waiting_days Age_category  \n",
       "11             1     Yes             3        Youth  \n",
       "15             1      No             3        Child  "
      ]
     },
     "execution_count": 50,
     "metadata": {},
     "output_type": "execute_result"
    }
   ],
   "source": [
    "sms_yes = df.query('SMS_received==1')\n",
    "\n",
    "sms_yes.head(2)"
   ]
  },
  {
   "cell_type": "code",
   "execution_count": 51,
   "id": "24546539",
   "metadata": {},
   "outputs": [
    {
     "name": "stdout",
     "output_type": "stream",
     "text": [
      "No     25017\n",
      "Yes     9568\n",
      "Name: No_show, dtype: int64\n"
     ]
    },
    {
     "data": {
      "text/plain": [
       "<AxesSubplot:title={'center':'Appointment by SMS received'}, xlabel='No_show Appointment', ylabel='Frequency'>"
      ]
     },
     "execution_count": 51,
     "metadata": {},
     "output_type": "execute_result"
    },
    {
     "data": {
      "image/png": "[encoded data removed]",
      "text/plain": [
       "<Figure size 432x288 with 1 Axes>"
      ]
     },
     "metadata": {
      "needs_background": "light"
     },
     "output_type": "display_data"
    }
   ],
   "source": [
    "print(sms_yes['No_show'].value_counts())\n",
    "\n",
    "sms_yes['No_show'].value_counts().plot(kind='bar', title=\"Appointment by SMS received\", ylabel=\"Frequency\", xlabel=\"No_show Appointment\")"
   ]
  },
  {
   "cell_type": "markdown",
   "id": "28e524c7",
   "metadata": {},
   "source": [
    "##### Out of 35,482 patients that received SMS, 25,698 showed up for the appointment. This implies that sending SMS to patients for reminder will prompt their show up"
   ]
  },
  {
   "cell_type": "markdown",
   "id": "570faa81",
   "metadata": {},
   "source": [
    "### Does patients enrollment in Brasillian Welfare program(i.e scholarship) affect their appointment"
   ]
  },
  {
   "cell_type": "code",
   "execution_count": 52,
   "id": "397dc635",
   "metadata": {},
   "outputs": [
    {
     "data": {
      "text/plain": [
       "array([0, 1], dtype=int64)"
      ]
     },
     "execution_count": 52,
     "metadata": {},
     "output_type": "execute_result"
    }
   ],
   "source": [
    "df['Scholarship'].unique()"
   ]
  },
  {
   "cell_type": "code",
   "execution_count": 53,
   "id": "8060109f",
   "metadata": {},
   "outputs": [
    {
     "name": "stdout",
     "output_type": "stream",
     "text": [
      "0    95612\n",
      "1    10749\n",
      "Name: Scholarship, dtype: int64\n"
     ]
    },
    {
     "data": {
      "image/png": "[encoded data removed]",
      "text/plain": [
       "<Figure size 432x288 with 1 Axes>"
      ]
     },
     "metadata": {
      "needs_background": "light"
     },
     "output_type": "display_data"
    }
   ],
   "source": [
    "print(df['Scholarship'].value_counts())\n",
    "\n",
    "df['Scholarship'].value_counts().plot(kind='bar', title=\"Count of scholarship\", xlabel=\"Scholarship\", ylabel=\"Frequency\");"
   ]
  },
  {
   "cell_type": "markdown",
   "id": "1471fa43",
   "metadata": {},
   "source": [
    "#### filtering based on scholarship"
   ]
  },
  {
   "cell_type": "code",
   "execution_count": 54,
   "id": "1041f2ab",
   "metadata": {},
   "outputs": [],
   "source": [
    "scholarship_yes = df.query('Scholarship==1')\n",
    "\n",
    "scholarship_no = df.query('Scholarship==0')"
   ]
  },
  {
   "cell_type": "code",
   "execution_count": 55,
   "id": "7265a22a",
   "metadata": {},
   "outputs": [
    {
     "name": "stdout",
     "output_type": "stream",
     "text": [
      "counts of patients enrolled in Brasillan welfare program is 10749\n",
      "counts of patients not enrolled in Brasillan welfare program is 95612\n",
      "True\n"
     ]
    }
   ],
   "source": [
    "print(\"counts of patients enrolled in Brasillan welfare program is {}\".format(scholarship_yes.shape[0]))\n",
    "\n",
    "print(\"counts of patients not enrolled in Brasillan welfare program is {}\".format(scholarship_no.shape[0]))\n",
    "\n",
    "num_samples = df.shape[0]\n",
    "\n",
    "print(num_samples == scholarship_yes.shape[0] + scholarship_no.shape[0])"
   ]
  },
  {
   "cell_type": "markdown",
   "id": "c22f33dd",
   "metadata": {},
   "source": [
    "#### Further analyzing patients enrolled in Brasillan welfare program and patients not enrolled"
   ]
  },
  {
   "cell_type": "code",
   "execution_count": 56,
   "id": "c78abf55",
   "metadata": {},
   "outputs": [
    {
     "name": "stdout",
     "output_type": "stream",
     "text": [
      "No     8200\n",
      "Yes    2549\n",
      "Name: No_show, dtype: int64\n"
     ]
    },
    {
     "data": {
      "text/plain": [
       "<AxesSubplot:title={'center':'Scholarship awarded by No_show appointment'}, xlabel='No_show appointment', ylabel='Frequency'>"
      ]
     },
     "execution_count": 56,
     "metadata": {},
     "output_type": "execute_result"
    },
    {
     "data": {
      "image/png": "[encoded data removed]",
      "text/plain": [
       "<Figure size 432x288 with 1 Axes>"
      ]
     },
     "metadata": {
      "needs_background": "light"
     },
     "output_type": "display_data"
    }
   ],
   "source": [
    "# Counts of patients with scholarship and appointment status\n",
    "print(scholarship_yes['No_show'].value_counts())\n",
    "\n",
    "scholarship_yes['No_show'].value_counts().plot(kind='bar', title=\"Scholarship awarded by No_show appointment\", \n",
    "                                               xlabel=\"No_show appointment\", ylabel='Frequency')"
   ]
  },
  {
   "cell_type": "markdown",
   "id": "ae952fc4",
   "metadata": {},
   "source": [
    "#### A total of 8245 out of 10801 patients enrolled in Brasillan welfare programs showed up for their appointments."
   ]
  },
  {
   "cell_type": "code",
   "execution_count": 57,
   "id": "c932e502",
   "metadata": {},
   "outputs": [
    {
     "name": "stdout",
     "output_type": "stream",
     "text": [
      "No     76699\n",
      "Yes    18913\n",
      "Name: No_show, dtype: int64\n"
     ]
    },
    {
     "data": {
      "text/plain": [
       "<AxesSubplot:title={'center':'Non scholarship recipient by No_show appointment'}, xlabel='No_show appointment', ylabel='Frequency'>"
      ]
     },
     "execution_count": 57,
     "metadata": {},
     "output_type": "execute_result"
    },
    {
     "data": {
      "image/png": "[encoded data removed]",
      "text/plain": [
       "<Figure size 432x288 with 1 Axes>"
      ]
     },
     "metadata": {
      "needs_background": "light"
     },
     "output_type": "display_data"
    }
   ],
   "source": [
    "# Count of patients without scholarship and appointment status\n",
    "print(scholarship_no['No_show'].value_counts())\n",
    "\n",
    "scholarship_no['No_show'].value_counts().plot(kind='bar', title=\"Non scholarship recipient by No_show appointment\", \n",
    "                                              xlabel=\"No_show appointment\", ylabel='Frequency')"
   ]
  },
  {
   "cell_type": "markdown",
   "id": "50539c24",
   "metadata": {},
   "source": [
    "### Visualizing correlation beween the features"
   ]
  },
  {
   "cell_type": "markdown",
   "id": "86b5d4fd",
   "metadata": {},
   "source": [
    "#### Using heatmap to visualize the correlation"
   ]
  },
  {
   "cell_type": "code",
   "execution_count": 58,
   "id": "38e62f1b",
   "metadata": {},
   "outputs": [
    {
     "data": {
      "image/png": "[encoded data removed]",
      "text/plain": [
       "<Figure size 432x288 with 1 Axes>"
      ]
     },
     "metadata": {
      "needs_background": "light"
     },
     "output_type": "display_data"
    }
   ],
   "source": [
    " corr = df.corr()\n",
    "\n",
    "ax = sns.heatmap(corr, cbar=0, linewidths=2, vmax=1, vmin=0, square=True, cmap='Blues')\n",
    "ax.set_title('Feature correlation')\n",
    "plt.show()"
   ]
  },
  {
   "cell_type": "markdown",
   "id": "1299ed11",
   "metadata": {},
   "source": [
    "#### The above heatmap shows the correlation of features. Hypertension and age, Diabetes and hypertension, waiting_days[elapsed days between schedulling and appointment date] and sms_received are highly positively correlated. WHILE Age and scholarship shows a negative correlation"
   ]
  },
  {
   "cell_type": "markdown",
   "id": "038f88da",
   "metadata": {},
   "source": [
    "### Conclusion"
   ]
  },
  {
   "cell_type": "markdown",
   "id": "390d71a3",
   "metadata": {},
   "source": [
    "Analyzing the dataset, I addressed a few issues like renaming columns to make them conform to standard, dropping the wrong data and unwanted columns. I also added new columns from existing ones.\n",
    " \n",
    "#### Here are some insights uncovered:\n",
    " \n",
    "--The scheduling of appointments began on 2015-11-10 and ended on 2016-06-08.\n",
    " \n",
    "--Appointments for visits began on 2016-04-29 and ended on 2016-06-08.\n",
    " \n",
    "--Children and youth account for the majority of people enrolled in Brasillan welfare programs (scholarships).\n",
    " \n",
    "--On average, Old people have the highest hypertension and diabetes, while adults have the highest alcoholism.\n",
    " \n",
    "--79.9% of patients show up to the doctor's appointment, while 20.1% did not \n",
    " \n",
    "--Among the 20.1% who failed to attend, Child and Youth had the highest rate. This may be because hypertension, diabetes, and alcoholism are rare among them. WHILE\n",
    " \n",
    "--Based on 79.9% of patients that showed up, Old, Adult always showed up the most because they often had hypertension, diabetes, and alcoholism\n",
    " \n",
    "--In total, 37,072 patients scheduled appointments on the same day, 1726 did not show up, representing approximately 5% of the total.\n",
    " \n",
    "--In general, the longer the waiting days, the greater the possibility of patients not showing up\n",
    " \n",
    "--Out of 35,482 patients that received SMS, 25,698 showed up for the appointment. This implies that sending SMS to patients for reminders will prompt their show up\n",
    " \n",
    "### Limitations\n",
    "\n",
    "##### The dataset contains incorrect data, such as patients under the age of 0 and those with negative waiting days values. This could be a result of data entry errors.\n",
    " \n",
    "##### Further information, such as type of appointment (routine check-up, specialist visit, lab test), brief medical history, will benefit our analysis.\n",
    " \n",
    " \n",
    "### In conclusion:\n",
    " \n",
    "A regular SMS should be sent to the patients regarding their appointment date.\n",
    " \n",
    "A patient's appointment date should be scheduled within a short time period, as long waiting days would result in the patient not showing up later.\n",
    " \n",
    "There should be more patients enrolled in the Brasillan welfare program.\n"
   ]
  },
  {
   "cell_type": "code",
   "execution_count": 59,
   "id": "4ccccefe",
   "metadata": {},
   "outputs": [],
   "source": [
    "#jupyter nbconvert --to webpdf Investigate_a_Dataset(no_show_appointment).ipynb"
   ]
  },
  {
   "cell_type": "code",
   "execution_count": 60,
   "id": "1b32c9f6",
   "metadata": {},
   "outputs": [],
   "source": [
    "#pip install nbconvert[webpdf]"
   ]
  },
  {
   "cell_type": "code",
   "execution_count": null,
   "id": "c4ee8fce",
   "metadata": {},
   "outputs": [],
   "source": []
  }
 ],
 "metadata": {
  "kernelspec": {
   "display_name": "Python 3 (ipykernel)",
   "language": "python",
   "name": "python3"
  },
  "language_info": {
   "codemirror_mode": {
    "name": "ipython",
    "version": 3
   },
   "file_extension": ".py",
   "mimetype": "text/x-python",
   "name": "python",
   "nbconvert_exporter": "python",
   "pygments_lexer": "ipython3",
   "version": "3.8.13"
  }
 },
 "nbformat": 4,
 "nbformat_minor": 5
}
